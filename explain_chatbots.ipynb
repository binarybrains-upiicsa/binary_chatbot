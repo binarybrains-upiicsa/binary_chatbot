{
 "cells": [
  {
   "cell_type": "markdown",
   "id": "adc95479-c399-43ed-9930-08cdf0fd9283",
   "metadata": {},
   "source": [
    "# ¿Cómo trabajan los chatbos? 🤔"
   ]
  },
  {
   "cell_type": "markdown",
   "id": "29bc55e7-4757-450a-b6d3-f3e86e43e214",
   "metadata": {},
   "source": [
    "* Analizan la entrada del usuario (lo que pregunta o escribe)\n",
    "* Interpretan su significado\n",
    "* Proporcionar una respuesta o salida adecuada relacionada a la entrada"
   ]
  },
  {
   "cell_type": "markdown",
   "id": "82d11f4f-484b-47a8-976e-a795659c6cd7",
   "metadata": {},
   "source": [
    "Una consulta de un usuario podría ser: \"Muéstrame los integrantes de Binary Brains que saben AI\".\n",
    "\n",
    "El chatbot podrá identificar la intención y las entidades de la consulta. La **intención** es el *propósito* o la categoría de lo que quiere el usuario, como, por ejemplo, *obtener una lista de integrantes*. Las **entidades** son *información adicional que describe la intención* del usuario. En este caso, las entidades son \"Binary Brains\" y \"saben AI\". Con esta información, los chatbots deberían poder responder al usuario con una lista de hoteles disponibles para la ubicación y fecha correctas."
   ]
  },
  {
   "cell_type": "markdown",
   "id": "eac401b1-2e02-48cb-8031-3060e87e545f",
   "metadata": {},
   "source": [
    "## Tipos de Chatbot"
   ]
  },
  {
   "cell_type": "markdown",
   "id": "2aac03a6-7aaf-4074-bf65-8a52e40e7d0c",
   "metadata": {},
   "source": [
    "Habrá distintos tipos de chatbos con respecto a su propósito"
   ]
  },
  {
   "cell_type": "markdown",
   "id": "70f1ce9c-cbc9-4d2f-bd2e-0574d1ae2c2e",
   "metadata": {},
   "source": [
    "## Rule-based - Basados en reglas "
   ]
  },
  {
   "cell_type": "markdown",
   "id": "04856b53-7b70-4fe6-aa89-ec32c4aac08e",
   "metadata": {},
   "source": [
    "Las respuestas están completamente predefinidas basadas en reglas, para este tipo de chatbos vamos a tener un decision trees o árboles de decisiones que tiene repsuestas especificas basadas para cada interacción que hagamos."
   ]
  },
  {
   "cell_type": "markdown",
   "id": "e677e7d3-3f9e-4cac-b677-bb4fa1d9755f",
   "metadata": {},
   "source": [
    "## Retrieval-based"
   ]
  },
  {
   "cell_type": "markdown",
   "id": "c8ff2e5b-95d9-4b6b-a244-3cd39462e53a",
   "metadata": {},
   "source": [
    "Se utilizan modelos de Machine Learning, como modelos de PNL (procesamiento natural del lenguaje) o también redes neuronales supervisadas, para interpretar la entrada del usuario y determinar la mejor respuesta, se apoyan en respuestas predefinidas, pero tienen la capacidad adicional de autoaprender y mejorar su selección de respuestas con el tiempo."
   ]
  },
  {
   "cell_type": "markdown",
   "id": "b5b693ae-7c37-4164-b53d-08246f5cd187",
   "metadata": {},
   "source": [
    "## Generative chatbots"
   ]
  },
  {
   "cell_type": "markdown",
   "id": "994aecd7-85e9-409a-be45-df681f3ade9a",
   "metadata": {},
   "source": [
    "Son capaces de generar su propia respuesta original basada en la entreda del usuario, involucra deep learning, así como LSTM-based seq2seq modelos para entrenar a los chatbots para ser capaces de definir la mejor respuesta."
   ]
  },
  {
   "cell_type": "markdown",
   "id": "1abca8e0-fb6a-4124-8fd0-01cc6f4b8424",
   "metadata": {},
   "source": [
    "Los chatbots potenciados por Generative AI son más flexibles pero no pueden llegar a ser tan confiables para definir ciertas reglas o tipos de respuestas en específicas que se requieran y no son tan recomentadables desde mi perspectiva para un chatbot que tenga que tomar ciertas decisiones específicas en algunos casos.\n",
    "\n",
    "A comparación de los chatbots retrieval-based o incluso los rule-based que pueden dar una mejor garantía de ciertas respuestas predefinidas, pero estos chatbots a su vez están restringidos al lenguaje que existe dentro de los datos de entrenamiento."
   ]
  },
  {
   "cell_type": "markdown",
   "id": "b7ba1405-7ce5-4bea-9625-377068aa9382",
   "metadata": {},
   "source": [
    "Pensando en un chatbot requerido para un banco, debido al tipo de actividades que podría realizar este mismo, es mejor tener un bot que solo brinde las respuestas indicadas y confiables basadas en lo que se puede hacer o no dentro de la aplicación bancaria.\n",
    "\n",
    "Podiendo tener una combinación de ambos modelos de chatbos usando un rule-based para acciones más regulados dodne se debe evitar a toda costa problemas relacionados a seguridad o donde se ocupen flujos guiados como el realizar una transacción a través del chatbot.\n",
    "\n",
    "Y usando el retrieval-based para cuestiones como preguntas frecuentes, términos del contrato o tarjeta , etc."
   ]
  },
  {
   "cell_type": "markdown",
   "id": "d2bdff39-9a7a-4f48-9518-b54c8df09cb9",
   "metadata": {},
   "source": [
    "## Iniciativa"
   ]
  },
  {
   "cell_type": "markdown",
   "id": "b94ac3e4-0761-498a-9fdc-a6c8698b8ee5",
   "metadata": {},
   "source": [
    "### System-initiative"
   ]
  },
  {
   "cell_type": "markdown",
   "id": "bf91bd82-321e-496a-9f5c-d745688ff434",
   "metadata": {},
   "source": [
    "Cuando hablamos de que un chatbot tiene iniciativa nos referimos a los chabots controlan la conversación solicitando información al usuario, llevando un flujo de conversiación fijo, normalmente la mayoría de estos son basados en rule-based."
   ]
  },
  {
   "cell_type": "markdown",
   "id": "3cfdd4fb-d673-4be7-8a7f-fd5bcf92f020",
   "metadata": {},
   "source": [
    "### Mixed-initiative"
   ]
  },
  {
   "cell_type": "markdown",
   "id": "7bf52f35-4f07-4b78-ad01-8c13bb3c4936",
   "metadata": {},
   "source": [
    "En esto modelo de iniciativa mixta cualquiera de los dos (usuario o sistema) , puede llevar el flujo de la conversación siendo esto más flexible para llevar una plática, haciendo que si el usuario toma la iniciativa el bot anlice las palabras relevantes para responderle."
   ]
  },
  {
   "cell_type": "markdown",
   "id": "46add804-5c3a-44aa-ab52-c3f1c917dd2e",
   "metadata": {},
   "source": [
    "we need to take caution when training the bot to ensure that it behaves appropriately. If it is not properly trained, the chatbot could be at risk of displaying racism, sexism, or use of abusive language. "
   ]
  }
 ],
 "metadata": {
  "kernelspec": {
   "display_name": "Python 3 (ipykernel)",
   "language": "python",
   "name": "python3"
  },
  "language_info": {
   "codemirror_mode": {
    "name": "ipython",
    "version": 3
   },
   "file_extension": ".py",
   "mimetype": "text/x-python",
   "name": "python",
   "nbconvert_exporter": "python",
   "pygments_lexer": "ipython3",
   "version": "3.12.7"
  }
 },
 "nbformat": 4,
 "nbformat_minor": 5
}
